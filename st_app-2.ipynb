{
 "cells": [
  {
   "cell_type": "markdown",
   "metadata": {},
   "source": [
    "Import libraries"
   ]
  },
  {
   "cell_type": "code",
   "execution_count": 1,
   "metadata": {},
   "outputs": [
    {
     "name": "stdout",
     "output_type": "stream",
     "text": [
      "WARNING:tensorflow:From C:\\Users\\pooja.d\\AppData\\Local\\anaconda3\\Lib\\site-packages\\tensorflow\\python\\util\\deprecation.py:588: calling function (from tensorflow.python.eager.polymorphic_function.polymorphic_function) with experimental_relax_shapes is deprecated and will be removed in a future version.\n",
      "Instructions for updating:\n",
      "experimental_relax_shapes is deprecated, use reduce_retracing instead\n"
     ]
    }
   ],
   "source": [
    "import streamlit as st\n",
    "from rdkit import Chem\n",
    "import deepchem as dc\n",
    "from rdkit.Chem.Draw import MolToImage\n",
    "import joblib\n",
    "import pandas as pd"
   ]
  },
  {
   "cell_type": "markdown",
   "metadata": {},
   "source": [
    "Load models"
   ]
  },
  {
   "cell_type": "code",
   "execution_count": 2,
   "metadata": {},
   "outputs": [
    {
     "name": "stderr",
     "output_type": "stream",
     "text": [
      "C:\\Users\\pooja.d\\AppData\\Local\\anaconda3\\Lib\\site-packages\\sklearn\\base.py:318: UserWarning: Trying to unpickle estimator DecisionTreeClassifier from version 1.1.2 when using version 1.2.2. This might lead to breaking code or invalid results. Use at your own risk. For more info please refer to:\n",
      "https://scikit-learn.org/stable/model_persistence.html#security-maintainability-limitations\n",
      "  warnings.warn(\n",
      "C:\\Users\\pooja.d\\AppData\\Local\\anaconda3\\Lib\\site-packages\\sklearn\\base.py:318: UserWarning: Trying to unpickle estimator RandomForestClassifier from version 1.1.2 when using version 1.2.2. This might lead to breaking code or invalid results. Use at your own risk. For more info please refer to:\n",
      "https://scikit-learn.org/stable/model_persistence.html#security-maintainability-limitations\n",
      "  warnings.warn(\n"
     ]
    }
   ],
   "source": [
    "model_path_fluorescence = \"C:/Users/pooja.d/Downloads/best_models (1)/best_models (1)/best_models/best_classifier.joblib\"\n",
    "model_fluorescence = joblib.load(model_path_fluorescence)"
   ]
  },
  {
   "cell_type": "code",
   "execution_count": 6,
   "metadata": {},
   "outputs": [],
   "source": [
    "model_path_regression = \"C:/Users/pooja.d/Downloads/best_models (1)/best_models (1)/best_models/new_best_regressor.joblib\"\n",
    "model_regression = joblib.load(model_path_regression)"
   ]
  },
  {
   "cell_type": "markdown",
   "metadata": {},
   "source": [
    "Load emission max model"
   ]
  },
  {
   "cell_type": "code",
   "execution_count": 7,
   "metadata": {},
   "outputs": [],
   "source": [
    "model_path_emission = \"C:/Users/pooja.d/Downloads/best_models (1)/best_models (1)/best_models/best_regressor.joblib\"\n",
    "model_emission = joblib.load(model_path_emission)"
   ]
  },
  {
   "cell_type": "markdown",
   "metadata": {},
   "source": [
    "Calculate Morgan fingerprints from SMILES string"
   ]
  },
  {
   "cell_type": "code",
   "execution_count": 11,
   "metadata": {},
   "outputs": [],
   "source": [
    "def smiles_to_morgan(smiles):\n",
    "    mol = Chem.MolFromSmiles(smiles) \n",
    "    featurizer = dc.feat.CircularFingerprint(radius=3, size=1024)\n",
    "    fp = featurizer.featurize([mol])\n",
    "    return fp[0]  # Take the features for the first (and only) sample"
   ]
  },
  {
   "cell_type": "code",
   "execution_count": 12,
   "metadata": {},
   "outputs": [],
   "source": [
    "def smiles_to_descriptors(smiles):\n",
    "    mol = Chem.MolFromSmiles(smiles)\n",
    "    featurizer = dc.feat.MACCSKeysFingerprint()\n",
    "    descriptors = featurizer.featurize([mol])\n",
    "    return pd.DataFrame(data=descriptors)"
   ]
  },
  {
   "cell_type": "markdown",
   "metadata": {},
   "source": [
    "Predict absorption max"
   ]
  },
  {
   "cell_type": "code",
   "execution_count": 13,
   "metadata": {},
   "outputs": [],
   "source": [
    "def predict_absorption_max(model, smiles, solvent):\n",
    "    smiles_desc = smiles_to_descriptors(smiles)\n",
    "    solvent_desc = smiles_to_descriptors(solvent)\n",
    "    X = pd.concat([smiles_desc, solvent_desc], axis=1)\n",
    "    y_pred = model.predict(X)\n",
    "    absorption_max = y_pred[0]\n",
    "    return absorption_max"
   ]
  },
  {
   "cell_type": "code",
   "execution_count": 14,
   "metadata": {},
   "outputs": [],
   "source": [
    "def predict_emission_max(model, smiles, solvent):\n",
    "    try:\n",
    "        # Generate descriptors for the given SMILES string\n",
    "        smiles_desc = smiles_to_descriptors(smiles)\n",
    "        solvent_desc = smiles_to_descriptors(solvent)\n",
    "        \n",
    "        # Concatenate descriptors for SMILES and solvent\n",
    "        X = pd.concat([smiles_desc, solvent_desc], axis=1)\n",
    "        \n",
    "        # Predict the emission max using the model\n",
    "        emission_max_pred = model.predict(X)\n",
    "        \n",
    "        # Extract the predicted emission max value\n",
    "        emission_max = emission_max_pred[0]  # Assuming it's a single value\n",
    "        \n",
    "        return emission_max\n",
    "    \n",
    "    except Exception as e:\n",
    "        print(f\"Error in predicting emission max: {e}\")\n",
    "        return None"
   ]
  },
  {
   "cell_type": "markdown",
   "metadata": {},
   "source": [
    "Predict some value using a model"
   ]
  },
  {
   "cell_type": "code",
   "execution_count": 15,
   "metadata": {},
   "outputs": [],
   "source": [
    "def predict(model, fp):\n",
    "    try:\n",
    "        print(f\"Input shape: {fp.shape}\")\n",
    "\n",
    "        # Check if the model is a deepchem model\n",
    "        if hasattr(model, 'predict'):\n",
    "            # If it's a deepchem model, assume it's a classification model\n",
    "            pred = model.predict([fp])[0]\n",
    "        else:\n",
    "            # If not a deepchem model, assume it's a traditional sklearn model\n",
    "            pred = model.predict(fp)[0]\n",
    "        print(f\"Prediction: {pred}\")\n",
    "        return pred\n",
    "    except Exception as e:\n",
    "        print(f\"Error in predict: {e}\")\n",
    "        return None"
   ]
  },
  {
   "cell_type": "markdown",
   "metadata": {},
   "source": [
    "Draw structure"
   ]
  },
  {
   "cell_type": "code",
   "execution_count": 16,
   "metadata": {},
   "outputs": [
    {
     "name": "stderr",
     "output_type": "stream",
     "text": [
      "2024-05-13 09:31:06.800 \n",
      "  \u001b[33m\u001b[1mWarning:\u001b[0m to view this Streamlit app on a browser, run it with the following\n",
      "  command:\n",
      "\n",
      "    streamlit run C:\\Users\\pooja.d\\AppData\\Local\\anaconda3\\Lib\\site-packages\\ipykernel_launcher.py [ARGUMENTS]\n"
     ]
    },
    {
     "data": {
      "text/plain": [
       "DeltaGenerator()"
      ]
     },
     "execution_count": 16,
     "metadata": {},
     "output_type": "execute_result"
    }
   ],
   "source": [
    "def draw_molecule(smiles):\n",
    "    mol = Chem.MolFromSmiles(smiles)\n",
    "    img = MolToImage(mol)\n",
    "    return img\n",
    "# Title\n",
    "st.title(\"Model Selector\")"
   ]
  },
  {
   "cell_type": "markdown",
   "metadata": {},
   "source": [
    "Sidebar for selecting the model"
   ]
  },
  {
   "cell_type": "code",
   "execution_count": 12,
   "metadata": {},
   "outputs": [],
   "source": [
    "model_selector = st.sidebar.selectbox(\"Select Model\", [\"Classification Model\", \"Absorption Max Model\", \"Emission Max Model\"])"
   ]
  },
  {
   "cell_type": "code",
   "execution_count": 13,
   "metadata": {},
   "outputs": [],
   "source": [
    "if model_selector == \"Emission Max Model\":\n",
    "    st.title(\"Emission Max Prediction\")\n",
    "\n",
    "    # Input for emission max prediction\n",
    "    smiles_emission_input = st.text_input(\"Enter a SMILES string for the molecule:\")\n",
    "    solvent_input = st.text_input(\"Enter a SMILES string for the solvent:\")\n",
    "\n",
    "    # Check if the input is valid and not empty\n",
    "    if smiles_emission_input and solvent_input:\n",
    "        try:\n",
    "            # Predict using the emission max model\n",
    "            emission_result = predict_emission_max(model_emission, smiles_emission_input, solvent_input)\n",
    "\n",
    "            # Draw molecule structure from SMILES string\n",
    "            st.image(MolToImage(Chem.MolFromSmiles(smiles_emission_input)), caption=\"Molecule Structure\", width=100, use_column_width=True)\n",
    "\n",
    "            # Display the predicted emission max value on the app\n",
    "            st.write(f\"Predicted Emission Max: {emission_result}\")\n",
    "            \n",
    "        except Exception as e:\n",
    "            # Display an error message if the input is invalid or cannot be processed\n",
    "            st.error(f\"Error in Emission Max Model: {e}\")"
   ]
  },
  {
   "cell_type": "code",
   "execution_count": 17,
   "metadata": {},
   "outputs": [
    {
     "ename": "SyntaxError",
     "evalue": "invalid syntax (2781572529.py, line 1)",
     "output_type": "error",
     "traceback": [
      "\u001b[1;36m  Cell \u001b[1;32mIn[17], line 1\u001b[1;36m\u001b[0m\n\u001b[1;33m    elif model_selector == \"Classification Model\":\u001b[0m\n\u001b[1;37m    ^\u001b[0m\n\u001b[1;31mSyntaxError\u001b[0m\u001b[1;31m:\u001b[0m invalid syntax\n"
     ]
    }
   ],
   "source": [
    "elif model_selector == \"Classification Model\":\n",
    "    st.title(\"Fluorescence Classifier\")\n",
    "\n",
    "    # Input for fluorescence model\n",
    "    smiles_input = st.text_input(\"Enter a SMILES string:\")\n",
    "\n",
    "    # Check if the input is valid and not empty\n",
    "    if smiles_input:\n",
    "        try:\n",
    "            # Calculate Morgan fingerprints from SMILES string\n",
    "            fp = smiles_to_morgan(smiles_input)\n",
    "\n",
    "            # Predict using the fluorescence model\n",
    "            result = predict(model_fluorescence, fp)\n",
    "\n",
    "            # Draw molecule structure from SMILES string\n",
    "            image = draw_molecule(smiles_input)\n",
    "\n",
    "            # Display the molecule structure and the prediction result on the app\n",
    "            st.image(image, caption=\"Molecule Structure\", width=100, use_column_width=True)\n",
    "            \n",
    "            # Check the result and display the prediction\n",
    "            if result is not None:\n",
    "                st.write(f\"Prediction: {'Fluorescent Molecule' if result == 1 else 'Non-fluorescent Molecule'}\")\n",
    "        except Exception as e:\n",
    "            # Display an error message if the input is invalid or cannot be processed \n",
    "            st.error(f\"Error in Fluorescence Model: {e}\")"
   ]
  },
  {
   "cell_type": "code",
   "execution_count": 16,
   "metadata": {},
   "outputs": [
    {
     "ename": "SyntaxError",
     "evalue": "invalid syntax (1308479693.py, line 1)",
     "output_type": "error",
     "traceback": [
      "\u001b[1;36m  Cell \u001b[1;32mIn[16], line 1\u001b[1;36m\u001b[0m\n\u001b[1;33m    else:\u001b[0m\n\u001b[1;37m    ^\u001b[0m\n\u001b[1;31mSyntaxError\u001b[0m\u001b[1;31m:\u001b[0m invalid syntax\n"
     ]
    }
   ],
   "source": [
    "else:\n",
    "    st.title(\"Absorption Max Model\")\n",
    "    # Input for regression model\n",
    "    smiles_input = st.text_input(\"Enter a SMILES string for the molecule:\")\n",
    "    solvent_input = st.text_input(\"Enter a SMILES string for the solvent:\")\n",
    "    if smiles_input and solvent_input:\n",
    "        try:\n",
    "            # Predict using the regression model\n",
    "            result = predict_absorption_max(model_regression, smiles_input, solvent_input)\n",
    "\n",
    "            # Draw molecule structure from SMILES string\n",
    "            st.image(MolToImage(Chem.MolFromSmiles(smiles_input)), caption=\"Molecule Structure\", width=100, use_column_width=True)\n",
    "\n",
    "            # Display the prediction result on the app\n",
    "            st.write(f\"Predicted Absorption Max: {round(result, 2)}\")\n",
    "        except Exception as e:\n",
    "            # Display an error message if the input is invalid or cannot be processed \n",
    "            st.error(f\"Error in Regression Model: {e}\")"
   ]
  },
  {
   "cell_type": "code",
   "execution_count": null,
   "metadata": {},
   "outputs": [],
   "source": []
  }
 ],
 "metadata": {
  "kernelspec": {
   "display_name": "Python 3 (ipykernel)",
   "language": "python",
   "name": "python3"
  },
  "language_info": {
   "codemirror_mode": {
    "name": "ipython",
    "version": 3
   },
   "file_extension": ".py",
   "mimetype": "text/x-python",
   "name": "python",
   "nbconvert_exporter": "python",
   "pygments_lexer": "ipython3",
   "version": "3.11.7"
  }
 },
 "nbformat": 4,
 "nbformat_minor": 4
}
