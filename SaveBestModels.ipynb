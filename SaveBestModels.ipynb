{
 "cells": [
  {
   "cell_type": "code",
   "execution_count": 32,
   "metadata": {},
   "outputs": [],
   "source": [
    "import pandas as pd\n",
    "import os\n",
    "from data_preprocessing import preprocess_dataframe\n",
    "from descriptor_calculation import descriptor_cal\n",
    "# from descriptor_calculation import smiles_solvent_descriptors\n",
    "from train_func import train_models\n",
    "import shutil\n",
    "import deepchem as dc\n",
    "import pandas as pd\n",
    "import numpy as np\n",
    "from sklearn.preprocessing import StandardScaler\n",
    "from sklearn.model_selection import train_test_split\n",
    "from sklearn.linear_model import LinearRegression, Ridge, Lasso, ElasticNet\n",
    "from sklearn.tree import DecisionTreeRegressor\n",
    "from sklearn.ensemble import RandomForestRegressor\n",
    "from sklearn.svm import SVR\n",
    "from sklearn.neighbors import KNeighborsRegressor\n",
    "from sklearn.metrics import mean_absolute_error, mean_squared_error, r2_score\n",
    "from sklearn.ensemble import RandomForestRegressor\n",
    "from sklearn.metrics import r2_score\n",
    "from rdkit import Chem\n",
    "import pandas as pd\n",
    "import numpy as np\n",
    "import joblib\n",
    "from sklearn.preprocessing import StandardScaler"
   ]
  },
  {
   "attachments": {},
   "cell_type": "markdown",
   "metadata": {},
   "source": [
    "# AbsorptionMax best model save"
   ]
  },
  {
   "cell_type": "code",
   "execution_count": 2,
   "metadata": {},
   "outputs": [],
   "source": [
    "# import descriptors used to train best model\n",
    "path_to_X = \"LambdaMaxDesc/MACCSKeysFingerprint/X.csv\"\n",
    "path_to_Y = \"LambdaMaxDesc/MACCSKeysFingerprint/Y.csv\""
   ]
  },
  {
   "cell_type": "code",
   "execution_count": 3,
   "metadata": {},
   "outputs": [],
   "source": [
    "X = pd.read_csv(path_to_X)\n",
    "Y = pd.read_csv(path_to_Y)"
   ]
  },
  {
   "cell_type": "code",
   "execution_count": 4,
   "metadata": {},
   "outputs": [],
   "source": [
    "from sklearn.ensemble import RandomForestRegressor\n",
    "from sklearn.metrics import r2_score\n",
    "import os\n",
    "\n",
    "def train_and_save_best_model(X, Y):\n",
    "    # Create a directory to store the best models\n",
    "    if not os.path.exists(\"best_models\"):\n",
    "        os.makedirs(\"best_models\")\n",
    "    \n",
    "    # Split the data into training and testing sets\n",
    "    from sklearn.model_selection import train_test_split\n",
    "    X_train, X_test, Y_train, Y_test = train_test_split(X, Y, test_size=0.2, random_state=42)\n",
    "    \n",
    "    # Train a random forest regressor\n",
    "    rf = RandomForestRegressor(random_state=42)\n",
    "    rf.fit(X_train, Y_train)\n",
    "    \n",
    "    # Evaluate the model on the test set\n",
    "    Y_pred = rf.predict(X_test)\n",
    "    r2 = r2_score(Y_test, Y_pred)\n",
    "    \n",
    "    # Save the model to disk\n",
    "    import joblib\n",
    "    model_path = os.path.join(\"best_models\", \"best_regressor.joblib\")\n",
    "    joblib.dump(rf, model_path)\n",
    "    \n",
    "    return r2\n"
   ]
  },
  {
   "cell_type": "code",
   "execution_count": 5,
   "metadata": {},
   "outputs": [
    {
     "name": "stderr",
     "output_type": "stream",
     "text": [
      "/var/folders/nf/xdcscmx50n3ccqpvd73zgys00000gn/T/ipykernel_28513/2688735004.py:16: DataConversionWarning: A column-vector y was passed when a 1d array was expected. Please change the shape of y to (n_samples,), for example using ravel().\n",
      "  rf.fit(X_train, Y_train)\n"
     ]
    },
    {
     "data": {
      "text/plain": [
       "0.9241941019925254"
      ]
     },
     "execution_count": 5,
     "metadata": {},
     "output_type": "execute_result"
    }
   ],
   "source": [
    "train_and_save_best_model(X,Y)"
   ]
  },
  {
   "attachments": {},
   "cell_type": "markdown",
   "metadata": {},
   "source": [
    "## Predict AbsorptionMax given smiles:"
   ]
  },
  {
   "cell_type": "code",
   "execution_count": 8,
   "metadata": {},
   "outputs": [],
   "source": [
    "\n",
    "\n",
    "# Set the path to the saved model\n",
    "MODEL_PATH = \"best_models/best_regressor.joblib\"\n",
    "\n",
    "def predict_absorption_max(smiles,solvent):\n",
    "    # Calculate RDKit descriptors using DeepChem\n",
    "    mol = Chem.MolFromSmiles(smiles)\n",
    "    featurizer = dc.feat.MACCSKeysFingerprint()\n",
    "    descriptors = featurizer.featurize([mol])\n",
    "    smiles_desc = pd.DataFrame(data=descriptors)\n",
    "\n",
    "    mol = Chem.MolFromSmiles(solvent)\n",
    "    featurizer = dc.feat.MACCSKeysFingerprint()\n",
    "    descriptors = featurizer.featurize([mol])\n",
    "    solvent_desc = pd.DataFrame(data=descriptors)\n",
    "\n",
    "    X = pd.concat([smiles_desc, solvent_desc], axis=1)\n",
    "    \n",
    "    # Load the saved model and use it to predict the absorption max\n",
    "    model = joblib.load(MODEL_PATH)\n",
    "    y_pred = model.predict(X)\n",
    "    absorption_max = y_pred[0]\n",
    "    \n",
    "    return absorption_max"
   ]
  },
  {
   "cell_type": "code",
   "execution_count": 9,
   "metadata": {},
   "outputs": [
    {
     "name": "stderr",
     "output_type": "stream",
     "text": [
      "/Users/ganeshjadhav/opt/anaconda3/envs/ML-for-LSD1-main/lib/python3.8/site-packages/sklearn/base.py:450: UserWarning: X does not have valid feature names, but RandomForestRegressor was fitted with feature names\n",
      "  warnings.warn(\n"
     ]
    },
    {
     "data": {
      "text/plain": [
       "342.67199999999997"
      ]
     },
     "execution_count": 9,
     "metadata": {},
     "output_type": "execute_result"
    }
   ],
   "source": [
    "predict_absorption_max(\"N#Cc1cc2ccc(O)cc2oc1=O\", \"O\")"
   ]
  },
  {
   "cell_type": "code",
   "execution_count": 10,
   "metadata": {},
   "outputs": [
    {
     "name": "stderr",
     "output_type": "stream",
     "text": [
      "/Users/ganeshjadhav/opt/anaconda3/envs/ML-for-LSD1-main/lib/python3.8/site-packages/sklearn/base.py:450: UserWarning: X does not have valid feature names, but RandomForestRegressor was fitted with feature names\n",
      "  warnings.warn(\n"
     ]
    },
    {
     "data": {
      "text/plain": [
       "456.80939393939394"
      ]
     },
     "execution_count": 10,
     "metadata": {},
     "output_type": "execute_result"
    }
   ],
   "source": [
    "predict_absorption_max(\"[O-]c1c(-c2nc3ccccc3s2)cc2ccc3cccc4ccc1c2c34\", \"CS(C)=O\")"
   ]
  },
  {
   "cell_type": "code",
   "execution_count": 21,
   "metadata": {},
   "outputs": [],
   "source": [
    "# import descriptors used to train best model\n",
    "path_to_X = \"LambdaMaxDesc/MACCSKeysFingerprint/X.csv\"\n",
    "path_to_Y = \"LambdaMaxDesc/MACCSKeysFingerprint/Y.csv\"\n",
    "X = pd.read_csv(path_to_X)\n",
    "Y = pd.read_csv(path_to_Y)"
   ]
  },
  {
   "cell_type": "code",
   "execution_count": 11,
   "metadata": {},
   "outputs": [],
   "source": [
    "MODEL_PATH = \"best_models/best_regressor.joblib\"\n",
    "model = joblib.load(MODEL_PATH)\n",
    "y_pred = model.predict(X)\n",
    "# absorption_max = y_pred[0]"
   ]
  },
  {
   "cell_type": "code",
   "execution_count": 14,
   "metadata": {},
   "outputs": [],
   "source": [
    "Y[\"y_prediction\"] = y_pred"
   ]
  },
  {
   "cell_type": "code",
   "execution_count": 16,
   "metadata": {},
   "outputs": [
    {
     "data": {
      "text/html": [
       "<div>\n",
       "<style scoped>\n",
       "    .dataframe tbody tr th:only-of-type {\n",
       "        vertical-align: middle;\n",
       "    }\n",
       "\n",
       "    .dataframe tbody tr th {\n",
       "        vertical-align: top;\n",
       "    }\n",
       "\n",
       "    .dataframe thead th {\n",
       "        text-align: right;\n",
       "    }\n",
       "</style>\n",
       "<table border=\"1\" class=\"dataframe\">\n",
       "  <thead>\n",
       "    <tr style=\"text-align: right;\">\n",
       "      <th></th>\n",
       "      <th>AbsorptioMax (nm)</th>\n",
       "      <th>y_prediction</th>\n",
       "    </tr>\n",
       "  </thead>\n",
       "  <tbody>\n",
       "    <tr>\n",
       "      <th>0</th>\n",
       "      <td>355.0</td>\n",
       "      <td>342.672000</td>\n",
       "    </tr>\n",
       "    <tr>\n",
       "      <th>1</th>\n",
       "      <td>408.0</td>\n",
       "      <td>440.270000</td>\n",
       "    </tr>\n",
       "    <tr>\n",
       "      <th>2</th>\n",
       "      <td>526.0</td>\n",
       "      <td>486.886667</td>\n",
       "    </tr>\n",
       "    <tr>\n",
       "      <th>3</th>\n",
       "      <td>514.0</td>\n",
       "      <td>359.768752</td>\n",
       "    </tr>\n",
       "    <tr>\n",
       "      <th>4</th>\n",
       "      <td>524.0</td>\n",
       "      <td>456.809394</td>\n",
       "    </tr>\n",
       "    <tr>\n",
       "      <th>5</th>\n",
       "      <td>350.0</td>\n",
       "      <td>353.620000</td>\n",
       "    </tr>\n",
       "    <tr>\n",
       "      <th>6</th>\n",
       "      <td>361.0</td>\n",
       "      <td>365.630000</td>\n",
       "    </tr>\n",
       "    <tr>\n",
       "      <th>7</th>\n",
       "      <td>367.0</td>\n",
       "      <td>372.416667</td>\n",
       "    </tr>\n",
       "    <tr>\n",
       "      <th>8</th>\n",
       "      <td>373.0</td>\n",
       "      <td>377.270000</td>\n",
       "    </tr>\n",
       "    <tr>\n",
       "      <th>9</th>\n",
       "      <td>384.0</td>\n",
       "      <td>382.240000</td>\n",
       "    </tr>\n",
       "    <tr>\n",
       "      <th>10</th>\n",
       "      <td>376.0</td>\n",
       "      <td>374.008475</td>\n",
       "    </tr>\n",
       "    <tr>\n",
       "      <th>11</th>\n",
       "      <td>392.0</td>\n",
       "      <td>387.724667</td>\n",
       "    </tr>\n",
       "    <tr>\n",
       "      <th>12</th>\n",
       "      <td>396.0</td>\n",
       "      <td>391.803333</td>\n",
       "    </tr>\n",
       "    <tr>\n",
       "      <th>13</th>\n",
       "      <td>400.0</td>\n",
       "      <td>395.230000</td>\n",
       "    </tr>\n",
       "    <tr>\n",
       "      <th>14</th>\n",
       "      <td>413.0</td>\n",
       "      <td>389.489167</td>\n",
       "    </tr>\n",
       "    <tr>\n",
       "      <th>15</th>\n",
       "      <td>361.0</td>\n",
       "      <td>389.370600</td>\n",
       "    </tr>\n",
       "    <tr>\n",
       "      <th>16</th>\n",
       "      <td>380.0</td>\n",
       "      <td>387.535000</td>\n",
       "    </tr>\n",
       "    <tr>\n",
       "      <th>17</th>\n",
       "      <td>387.0</td>\n",
       "      <td>393.110000</td>\n",
       "    </tr>\n",
       "    <tr>\n",
       "      <th>18</th>\n",
       "      <td>396.0</td>\n",
       "      <td>393.970600</td>\n",
       "    </tr>\n",
       "    <tr>\n",
       "      <th>19</th>\n",
       "      <td>393.0</td>\n",
       "      <td>409.032500</td>\n",
       "    </tr>\n",
       "    <tr>\n",
       "      <th>20</th>\n",
       "      <td>409.0</td>\n",
       "      <td>409.630000</td>\n",
       "    </tr>\n",
       "    <tr>\n",
       "      <th>21</th>\n",
       "      <td>418.0</td>\n",
       "      <td>412.810000</td>\n",
       "    </tr>\n",
       "    <tr>\n",
       "      <th>22</th>\n",
       "      <td>421.0</td>\n",
       "      <td>415.250000</td>\n",
       "    </tr>\n",
       "    <tr>\n",
       "      <th>23</th>\n",
       "      <td>434.0</td>\n",
       "      <td>424.650000</td>\n",
       "    </tr>\n",
       "    <tr>\n",
       "      <th>24</th>\n",
       "      <td>382.0</td>\n",
       "      <td>389.110100</td>\n",
       "    </tr>\n",
       "    <tr>\n",
       "      <th>25</th>\n",
       "      <td>405.0</td>\n",
       "      <td>399.980000</td>\n",
       "    </tr>\n",
       "    <tr>\n",
       "      <th>26</th>\n",
       "      <td>408.0</td>\n",
       "      <td>401.870000</td>\n",
       "    </tr>\n",
       "    <tr>\n",
       "      <th>27</th>\n",
       "      <td>365.0</td>\n",
       "      <td>361.650000</td>\n",
       "    </tr>\n",
       "    <tr>\n",
       "      <th>28</th>\n",
       "      <td>454.0</td>\n",
       "      <td>443.822000</td>\n",
       "    </tr>\n",
       "    <tr>\n",
       "      <th>29</th>\n",
       "      <td>403.0</td>\n",
       "      <td>404.816667</td>\n",
       "    </tr>\n",
       "    <tr>\n",
       "      <th>30</th>\n",
       "      <td>354.0</td>\n",
       "      <td>361.365000</td>\n",
       "    </tr>\n",
       "    <tr>\n",
       "      <th>31</th>\n",
       "      <td>383.0</td>\n",
       "      <td>373.593367</td>\n",
       "    </tr>\n",
       "    <tr>\n",
       "      <th>32</th>\n",
       "      <td>530.0</td>\n",
       "      <td>529.470000</td>\n",
       "    </tr>\n",
       "    <tr>\n",
       "      <th>33</th>\n",
       "      <td>515.0</td>\n",
       "      <td>520.240000</td>\n",
       "    </tr>\n",
       "    <tr>\n",
       "      <th>34</th>\n",
       "      <td>521.0</td>\n",
       "      <td>522.528000</td>\n",
       "    </tr>\n",
       "    <tr>\n",
       "      <th>35</th>\n",
       "      <td>548.0</td>\n",
       "      <td>545.220000</td>\n",
       "    </tr>\n",
       "    <tr>\n",
       "      <th>36</th>\n",
       "      <td>522.0</td>\n",
       "      <td>521.370000</td>\n",
       "    </tr>\n",
       "    <tr>\n",
       "      <th>37</th>\n",
       "      <td>526.0</td>\n",
       "      <td>526.030000</td>\n",
       "    </tr>\n",
       "    <tr>\n",
       "      <th>38</th>\n",
       "      <td>556.0</td>\n",
       "      <td>549.890000</td>\n",
       "    </tr>\n",
       "    <tr>\n",
       "      <th>39</th>\n",
       "      <td>527.0</td>\n",
       "      <td>526.040000</td>\n",
       "    </tr>\n",
       "  </tbody>\n",
       "</table>\n",
       "</div>"
      ],
      "text/plain": [
       "    AbsorptioMax (nm)  y_prediction\n",
       "0               355.0    342.672000\n",
       "1               408.0    440.270000\n",
       "2               526.0    486.886667\n",
       "3               514.0    359.768752\n",
       "4               524.0    456.809394\n",
       "5               350.0    353.620000\n",
       "6               361.0    365.630000\n",
       "7               367.0    372.416667\n",
       "8               373.0    377.270000\n",
       "9               384.0    382.240000\n",
       "10              376.0    374.008475\n",
       "11              392.0    387.724667\n",
       "12              396.0    391.803333\n",
       "13              400.0    395.230000\n",
       "14              413.0    389.489167\n",
       "15              361.0    389.370600\n",
       "16              380.0    387.535000\n",
       "17              387.0    393.110000\n",
       "18              396.0    393.970600\n",
       "19              393.0    409.032500\n",
       "20              409.0    409.630000\n",
       "21              418.0    412.810000\n",
       "22              421.0    415.250000\n",
       "23              434.0    424.650000\n",
       "24              382.0    389.110100\n",
       "25              405.0    399.980000\n",
       "26              408.0    401.870000\n",
       "27              365.0    361.650000\n",
       "28              454.0    443.822000\n",
       "29              403.0    404.816667\n",
       "30              354.0    361.365000\n",
       "31              383.0    373.593367\n",
       "32              530.0    529.470000\n",
       "33              515.0    520.240000\n",
       "34              521.0    522.528000\n",
       "35              548.0    545.220000\n",
       "36              522.0    521.370000\n",
       "37              526.0    526.030000\n",
       "38              556.0    549.890000\n",
       "39              527.0    526.040000"
      ]
     },
     "execution_count": 16,
     "metadata": {},
     "output_type": "execute_result"
    }
   ],
   "source": [
    "Y.head(40)"
   ]
  },
  {
   "cell_type": "code",
   "execution_count": 26,
   "metadata": {},
   "outputs": [
    {
     "data": {
      "text/plain": [
       "[355.0,\n",
       " 408.0,\n",
       " 526.0,\n",
       " 514.0,\n",
       " 524.0,\n",
       " 350.0,\n",
       " 361.0,\n",
       " 367.0,\n",
       " 373.0,\n",
       " 384.0,\n",
       " 376.0,\n",
       " 392.0,\n",
       " 396.0,\n",
       " 400.0,\n",
       " 413.0,\n",
       " 361.0,\n",
       " 380.0,\n",
       " 387.0,\n",
       " 396.0,\n",
       " 393.0]"
      ]
     },
     "execution_count": 26,
     "metadata": {},
     "output_type": "execute_result"
    }
   ],
   "source": [
    "Y[\"AbsorptioMax (nm)\"].to_list()[:20]"
   ]
  },
  {
   "cell_type": "code",
   "execution_count": 28,
   "metadata": {},
   "outputs": [
    {
     "data": {
      "image/png": "[encoded data removed]",
      "text/plain": [
       "<Figure size 640x480 with 1 Axes>"
      ]
     },
     "metadata": {},
     "output_type": "display_data"
    }
   ],
   "source": [
    "import matplotlib.pyplot as plt\n",
    "import numpy as np\n",
    "\n",
    "\n",
    "def plotGraph(y_test,y_pred,regressorName):\n",
    "    if float(max(y_test)) >= float(max(y_pred)):\n",
    "        my_range = int(max(y_test))\n",
    "    else:\n",
    "        my_range = int(max(y_pred))\n",
    "    plt.scatter(range(len(y_test)), y_test, color='blue')\n",
    "    plt.scatter(range(len(y_pred)), y_pred, color='red')\n",
    "    plt.title(regressorName)\n",
    "    plt.show()\n",
    "    return\n",
    "\n",
    "\n",
    "\n",
    "plotGraph(Y[\"AbsorptioMax (nm)\"].to_list()[:50], y_pred[:50], \"test\")"
   ]
  },
  {
   "attachments": {},
   "cell_type": "markdown",
   "metadata": {},
   "source": [
    "# Classification:"
   ]
  },
  {
   "cell_type": "code",
   "execution_count": 29,
   "metadata": {},
   "outputs": [],
   "source": [
    "# import descriptors used to train best model\n",
    "path_to_X = \"Smiles_Descriptors/Morgan fingerprints/X.csv\"\n",
    "path_to_Y = \"Smiles_Descriptors/Morgan fingerprints/Y.csv\""
   ]
  },
  {
   "cell_type": "code",
   "execution_count": 30,
   "metadata": {},
   "outputs": [],
   "source": [
    "X = pd.read_csv(path_to_X)\n",
    "Y = pd.read_csv(path_to_Y)"
   ]
  },
  {
   "cell_type": "code",
   "execution_count": 33,
   "metadata": {},
   "outputs": [],
   "source": [
    "\n",
    "from sklearn.ensemble import RandomForestClassifier\n",
    "from sklearn.metrics import accuracy_score\n",
    "\n",
    "def train_and_save_best_model(X, Y):\n",
    "    # Create a directory to store the best models\n",
    "    if not os.path.exists(\"best_models\"):\n",
    "        os.makedirs(\"best_models\")\n",
    "    \n",
    "    # Split the data into training and testing sets\n",
    "    from sklearn.model_selection import train_test_split\n",
    "    X_train, X_test, Y_train, Y_test = train_test_split(X, Y, test_size=0.2, random_state=42)\n",
    "    \n",
    "    # Train a random forest regressor\n",
    "    rf = RandomForestClassifier()\n",
    "\n",
    "    rf.fit(X_train, Y_train)\n",
    "    \n",
    "    # Evaluate the model on the test set\n",
    "    Y_pred = rf.predict(X_test)\n",
    "    acc_score = accuracy_score(Y_test, Y_pred)\n",
    "    \n",
    "    # Save the model to disk\n",
    "    import joblib\n",
    "    model_path = os.path.join(\"best_models\", \"best_classifier.joblib\")\n",
    "    joblib.dump(rf, model_path)\n",
    "    \n",
    "    return acc_score\n"
   ]
  },
  {
   "cell_type": "code",
   "execution_count": 34,
   "metadata": {},
   "outputs": [
    {
     "name": "stderr",
     "output_type": "stream",
     "text": [
      "/var/folders/nf/xdcscmx50n3ccqpvd73zgys00000gn/T/ipykernel_29972/1093630908.py:16: DataConversionWarning: A column-vector y was passed when a 1d array was expected. Please change the shape of y to (n_samples,), for example using ravel().\n",
      "  rf.fit(X_train, Y_train)\n"
     ]
    },
    {
     "data": {
      "text/plain": [
       "0.987489574645538"
      ]
     },
     "execution_count": 34,
     "metadata": {},
     "output_type": "execute_result"
    }
   ],
   "source": [
    "train_and_save_best_model(X, Y)"
   ]
  },
  {
   "cell_type": "code",
   "execution_count": 40,
   "metadata": {},
   "outputs": [],
   "source": [
    "\n",
    "\n",
    "# Set the path to the saved model\n",
    "MODEL_PATH = \"best_models/best_classifier.joblib\"\n",
    "\n",
    "def predict_absorption_max(smiles):\n",
    "    # Calculate RDKit descriptors using DeepChem\n",
    "    mol = Chem.MolFromSmiles(smiles)\n",
    "    featurizer = dc.feat.CircularFingerprint(radius=3, size=1024)\n",
    "    descriptors = featurizer.featurize([mol])\n",
    "    X = pd.DataFrame(data=descriptors)\n",
    "    \n",
    "    # Load the saved model and use it to predict the absorption max\n",
    "    model = joblib.load(MODEL_PATH)\n",
    "    y_pred = model.predict(X)\n",
    "    prediction = y_pred[0]\n",
    "    \n",
    "    return \"Fluroscent\" if prediction==1 else \"Non-Fluroscent\""
   ]
  },
  {
   "cell_type": "code",
   "execution_count": 41,
   "metadata": {},
   "outputs": [
    {
     "name": "stderr",
     "output_type": "stream",
     "text": [
      "/Users/ganeshjadhav/opt/anaconda3/envs/ML-for-LSD1-main/lib/python3.8/site-packages/sklearn/base.py:450: UserWarning: X does not have valid feature names, but RandomForestClassifier was fitted with feature names\n",
      "  warnings.warn(\n"
     ]
    },
    {
     "data": {
      "text/plain": [
       "'Fluroscent'"
      ]
     },
     "execution_count": 41,
     "metadata": {},
     "output_type": "execute_result"
    }
   ],
   "source": [
    "predict_absorption_max(\"N#Cc1cc2ccc(O)cc2oc1=O\")"
   ]
  },
  {
   "cell_type": "code",
   "execution_count": 42,
   "metadata": {},
   "outputs": [
    {
     "name": "stderr",
     "output_type": "stream",
     "text": [
      "/Users/ganeshjadhav/opt/anaconda3/envs/ML-for-LSD1-main/lib/python3.8/site-packages/sklearn/base.py:450: UserWarning: X does not have valid feature names, but RandomForestClassifier was fitted with feature names\n",
      "  warnings.warn(\n"
     ]
    },
    {
     "data": {
      "text/plain": [
       "'Non-Fluroscent'"
      ]
     },
     "execution_count": 42,
     "metadata": {},
     "output_type": "execute_result"
    }
   ],
   "source": [
    "predict_absorption_max(\"FC(F)(F)C1=CN(CC2=CSC(NC3=CC=CC=C3)=N2)C(=O)C=C1\")"
   ]
  },
  {
   "cell_type": "code",
   "execution_count": 43,
   "metadata": {},
   "outputs": [],
   "source": [
    "def draw_molecule(smiles):\n",
    "    mol = Chem.MolFromSmiles(smiles)\n",
    "    return Chem.Draw.MolToImage(mol)"
   ]
  },
  {
   "cell_type": "code",
   "execution_count": 45,
   "metadata": {},
   "outputs": [],
   "source": [
    "A= draw_molecule(\"FC(F)(F)C1=CN(CC2=CSC(NC3=CC=CC=C3)=N2)C(=O)C=C1\")"
   ]
  },
  {
   "cell_type": "code",
   "execution_count": 46,
   "metadata": {},
   "outputs": [
    {
     "data": {
      "image/png": "[encoded data removed]",
      "text/plain": [
       "<PIL.PngImagePlugin.PngImageFile image mode=RGB size=300x300>"
      ]
     },
     "execution_count": 46,
     "metadata": {},
     "output_type": "execute_result"
    }
   ],
   "source": [
    "A"
   ]
  },
  {
   "cell_type": "code",
   "execution_count": 47,
   "metadata": {},
   "outputs": [
    {
     "data": {
      "text/plain": [
       "PIL.PngImagePlugin.PngImageFile"
      ]
     },
     "execution_count": 47,
     "metadata": {},
     "output_type": "execute_result"
    }
   ],
   "source": [
    "type(A)"
   ]
  },
  {
   "cell_type": "code",
   "execution_count": null,
   "metadata": {},
   "outputs": [],
   "source": []
  }
 ],
 "metadata": {
  "kernelspec": {
   "display_name": "ML-for-LSD1-main",
   "language": "python",
   "name": "python3"
  },
  "language_info": {
   "codemirror_mode": {
    "name": "ipython",
    "version": 3
   },
   "file_extension": ".py",
   "mimetype": "text/x-python",
   "name": "python",
   "nbconvert_exporter": "python",
   "pygments_lexer": "ipython3",
   "version": "3.8.13"
  },
  "orig_nbformat": 4
 },
 "nbformat": 4,
 "nbformat_minor": 2
}
