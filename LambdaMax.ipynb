{
 "cells": [
  {
   "cell_type": "code",
   "execution_count": 10,
   "metadata": {},
   "outputs": [],
   "source": [
    "import pandas as pd\n",
    "import os\n",
    "from data_preprocessing import preprocess_dataframe\n",
    "from descriptor_calculation import descriptor_cal\n",
    "# from descriptor_calculation import smiles_solvent_descriptors\n",
    "from train_func import train_models\n",
    "import shutil\n",
    "import os\n",
    "import deepchem as dc\n",
    "import pandas as pd\n",
    "import numpy as np\n",
    "from sklearn.preprocessing import StandardScaler\n",
    "from sklearn.model_selection import train_test_split\n",
    "from sklearn.linear_model import LinearRegression, Ridge, Lasso, ElasticNet\n",
    "from sklearn.tree import DecisionTreeRegressor\n",
    "from sklearn.ensemble import RandomForestRegressor\n",
    "from sklearn.svm import SVR\n",
    "from sklearn.neighbors import KNeighborsRegressor\n",
    "from sklearn.metrics import mean_absolute_error, mean_squared_error, r2_score\n",
    "import os"
   ]
  },
  {
   "cell_type": "code",
   "execution_count": 11,
   "metadata": {},
   "outputs": [],
   "source": [
    "df = pd.read_csv(\"All Properties with Finguprints_3.csv\")"
   ]
  },
  {
   "cell_type": "code",
   "execution_count": 12,
   "metadata": {},
   "outputs": [
    {
     "data": {
      "text/plain": [
       "Sr.No                     int64\n",
       "Smiles                   object\n",
       "Solvent                  object\n",
       "AbsorptioMax (nm)       float64\n",
       "EmissionMax (nm)        float64\n",
       "Fluorescent labeling     object\n",
       "Total Molweight         float64\n",
       "molFormula               object\n",
       "cLogP                   float64\n",
       "cLogS                   float64\n",
       "H-Acceptors               int64\n",
       "H-Donors                  int64\n",
       "Total Surface Area      float64\n",
       "Relative PSA            float64\n",
       "Polar Surface Area      float64\n",
       "Druglikeness            float64\n",
       "Rotatable Bonds           int64\n",
       "Weiner                  float64\n",
       "dtype: object"
      ]
     },
     "execution_count": 12,
     "metadata": {},
     "output_type": "execute_result"
    }
   ],
   "source": [
    "df.dtypes"
   ]
  },
  {
   "cell_type": "code",
   "execution_count": 13,
   "metadata": {},
   "outputs": [],
   "source": [
    "df['Smiles'] = df['Smiles'].astype(str)"
   ]
  },
  {
   "cell_type": "code",
   "execution_count": 14,
   "metadata": {},
   "outputs": [
    {
     "data": {
      "text/plain": [
       "Sr.No                     int64\n",
       "Smiles                   object\n",
       "Solvent                  object\n",
       "AbsorptioMax (nm)       float64\n",
       "EmissionMax (nm)        float64\n",
       "Fluorescent labeling     object\n",
       "Total Molweight         float64\n",
       "molFormula               object\n",
       "cLogP                   float64\n",
       "cLogS                   float64\n",
       "H-Acceptors               int64\n",
       "H-Donors                  int64\n",
       "Total Surface Area      float64\n",
       "Relative PSA            float64\n",
       "Polar Surface Area      float64\n",
       "Druglikeness            float64\n",
       "Rotatable Bonds           int64\n",
       "Weiner                  float64\n",
       "dtype: object"
      ]
     },
     "execution_count": 14,
     "metadata": {},
     "output_type": "execute_result"
    }
   ],
   "source": [
    "df.dtypes"
   ]
  },
  {
   "cell_type": "code",
   "execution_count": 15,
   "metadata": {},
   "outputs": [],
   "source": [
    "PATH = \"All Properties with Finguprints_3.csv\"\n",
    "descriptor_list = [\"Morgan fingerprints\",\"MACCSKeysFingerprint\",\"RDKitDescriptors\"] \n",
    "TARGET = \"AbsorptioMax (nm)\""
   ]
  },
  {
   "cell_type": "code",
   "execution_count": 16,
   "metadata": {},
   "outputs": [
    {
     "data": {
      "text/html": [
       "<div>\n",
       "<style scoped>\n",
       "    .dataframe tbody tr th:only-of-type {\n",
       "        vertical-align: middle;\n",
       "    }\n",
       "\n",
       "    .dataframe tbody tr th {\n",
       "        vertical-align: top;\n",
       "    }\n",
       "\n",
       "    .dataframe thead th {\n",
       "        text-align: right;\n",
       "    }\n",
       "</style>\n",
       "<table border=\"1\" class=\"dataframe\">\n",
       "  <thead>\n",
       "    <tr style=\"text-align: right;\">\n",
       "      <th></th>\n",
       "      <th>Sr.No</th>\n",
       "      <th>Smiles</th>\n",
       "      <th>Solvent</th>\n",
       "      <th>AbsorptioMax (nm)</th>\n",
       "      <th>EmissionMax (nm)</th>\n",
       "      <th>Fluorescent labeling</th>\n",
       "      <th>Total Molweight</th>\n",
       "      <th>molFormula</th>\n",
       "      <th>cLogP</th>\n",
       "      <th>cLogS</th>\n",
       "      <th>H-Acceptors</th>\n",
       "      <th>H-Donors</th>\n",
       "      <th>Total Surface Area</th>\n",
       "      <th>Relative PSA</th>\n",
       "      <th>Polar Surface Area</th>\n",
       "      <th>Druglikeness</th>\n",
       "      <th>Rotatable Bonds</th>\n",
       "      <th>Weiner</th>\n",
       "    </tr>\n",
       "  </thead>\n",
       "  <tbody>\n",
       "    <tr>\n",
       "      <th>0</th>\n",
       "      <td>1</td>\n",
       "      <td>N#Cc1cc2ccc(O)cc2oc1=O</td>\n",
       "      <td>O</td>\n",
       "      <td>355.0</td>\n",
       "      <td>410.00</td>\n",
       "      <td>Yes</td>\n",
       "      <td>187.154</td>\n",
       "      <td>C10H5NO3</td>\n",
       "      <td>0.8375</td>\n",
       "      <td>-2.346</td>\n",
       "      <td>4</td>\n",
       "      <td>1</td>\n",
       "      <td>140.28</td>\n",
       "      <td>0.354290</td>\n",
       "      <td>70.32</td>\n",
       "      <td>-4.14950</td>\n",
       "      <td>0</td>\n",
       "      <td>288.0</td>\n",
       "    </tr>\n",
       "    <tr>\n",
       "      <th>1</th>\n",
       "      <td>2</td>\n",
       "      <td>N#Cc1cc2ccc([O-])cc2oc1=O</td>\n",
       "      <td>O</td>\n",
       "      <td>408.0</td>\n",
       "      <td>450.00</td>\n",
       "      <td>Yes</td>\n",
       "      <td>186.146</td>\n",
       "      <td>C10H4NO3</td>\n",
       "      <td>-0.7405</td>\n",
       "      <td>-2.346</td>\n",
       "      <td>4</td>\n",
       "      <td>0</td>\n",
       "      <td>141.46</td>\n",
       "      <td>0.359680</td>\n",
       "      <td>73.15</td>\n",
       "      <td>-4.14950</td>\n",
       "      <td>0</td>\n",
       "      <td>288.0</td>\n",
       "    </tr>\n",
       "    <tr>\n",
       "      <th>2</th>\n",
       "      <td>3</td>\n",
       "      <td>CCCCCCCCCCCC#CC#CCCCCCCCCCN1C(=O)c2ccc3c4ccc5c...</td>\n",
       "      <td>ClC(Cl)Cl</td>\n",
       "      <td>526.0</td>\n",
       "      <td>535.00</td>\n",
       "      <td>Yes</td>\n",
       "      <td>1061.540</td>\n",
       "      <td>C73H92N2O4</td>\n",
       "      <td>24.1650</td>\n",
       "      <td>-27.266</td>\n",
       "      <td>6</td>\n",
       "      <td>0</td>\n",
       "      <td>933.68</td>\n",
       "      <td>0.063469</td>\n",
       "      <td>74.76</td>\n",
       "      <td>-20.14900</td>\n",
       "      <td>39</td>\n",
       "      <td>55900.0</td>\n",
       "    </tr>\n",
       "    <tr>\n",
       "      <th>3</th>\n",
       "      <td>4</td>\n",
       "      <td>[O-]c1c(-c2nc3ccccc3s2)cc2ccc3cccc4ccc1c2c34</td>\n",
       "      <td>CC#N</td>\n",
       "      <td>514.0</td>\n",
       "      <td>553.72</td>\n",
       "      <td>Yes</td>\n",
       "      <td>350.420</td>\n",
       "      <td>C23H12NOS</td>\n",
       "      <td>4.5981</td>\n",
       "      <td>-7.337</td>\n",
       "      <td>2</td>\n",
       "      <td>0</td>\n",
       "      <td>249.23</td>\n",
       "      <td>0.183000</td>\n",
       "      <td>64.19</td>\n",
       "      <td>0.73261</td>\n",
       "      <td>1</td>\n",
       "      <td>1522.0</td>\n",
       "    </tr>\n",
       "    <tr>\n",
       "      <th>4</th>\n",
       "      <td>5</td>\n",
       "      <td>[O-]c1c(-c2nc3ccccc3s2)cc2ccc3cccc4ccc1c2c34</td>\n",
       "      <td>CS(C)=O</td>\n",
       "      <td>524.0</td>\n",
       "      <td>555.00</td>\n",
       "      <td>Yes</td>\n",
       "      <td>350.420</td>\n",
       "      <td>C23H12NOS</td>\n",
       "      <td>4.5981</td>\n",
       "      <td>-7.337</td>\n",
       "      <td>2</td>\n",
       "      <td>0</td>\n",
       "      <td>249.23</td>\n",
       "      <td>0.183000</td>\n",
       "      <td>64.19</td>\n",
       "      <td>0.73261</td>\n",
       "      <td>1</td>\n",
       "      <td>1522.0</td>\n",
       "    </tr>\n",
       "  </tbody>\n",
       "</table>\n",
       "</div>"
      ],
      "text/plain": [
       "   Sr.No                                             Smiles    Solvent  \\\n",
       "0      1                             N#Cc1cc2ccc(O)cc2oc1=O          O   \n",
       "1      2                          N#Cc1cc2ccc([O-])cc2oc1=O          O   \n",
       "2      3  CCCCCCCCCCCC#CC#CCCCCCCCCCN1C(=O)c2ccc3c4ccc5c...  ClC(Cl)Cl   \n",
       "3      4       [O-]c1c(-c2nc3ccccc3s2)cc2ccc3cccc4ccc1c2c34       CC#N   \n",
       "4      5       [O-]c1c(-c2nc3ccccc3s2)cc2ccc3cccc4ccc1c2c34    CS(C)=O   \n",
       "\n",
       "   AbsorptioMax (nm)  EmissionMax (nm) Fluorescent labeling  Total Molweight  \\\n",
       "0              355.0            410.00                  Yes          187.154   \n",
       "1              408.0            450.00                  Yes          186.146   \n",
       "2              526.0            535.00                  Yes         1061.540   \n",
       "3              514.0            553.72                  Yes          350.420   \n",
       "4              524.0            555.00                  Yes          350.420   \n",
       "\n",
       "   molFormula    cLogP   cLogS  H-Acceptors  H-Donors  Total Surface Area  \\\n",
       "0    C10H5NO3   0.8375  -2.346            4         1              140.28   \n",
       "1    C10H4NO3  -0.7405  -2.346            4         0              141.46   \n",
       "2  C73H92N2O4  24.1650 -27.266            6         0              933.68   \n",
       "3   C23H12NOS   4.5981  -7.337            2         0              249.23   \n",
       "4   C23H12NOS   4.5981  -7.337            2         0              249.23   \n",
       "\n",
       "   Relative PSA  Polar Surface Area  Druglikeness  Rotatable Bonds   Weiner  \n",
       "0      0.354290               70.32      -4.14950                0    288.0  \n",
       "1      0.359680               73.15      -4.14950                0    288.0  \n",
       "2      0.063469               74.76     -20.14900               39  55900.0  \n",
       "3      0.183000               64.19       0.73261                1   1522.0  \n",
       "4      0.183000               64.19       0.73261                1   1522.0  "
      ]
     },
     "execution_count": 16,
     "metadata": {},
     "output_type": "execute_result"
    }
   ],
   "source": [
    "df = pd.read_csv(PATH)\n",
    "df.head()"
   ]
  },
  {
   "cell_type": "code",
   "execution_count": null,
   "metadata": {},
   "outputs": [],
   "source": []
  },
  {
   "cell_type": "code",
   "execution_count": 17,
   "metadata": {},
   "outputs": [
    {
     "data": {
      "text/plain": [
       "(32303, 18)"
      ]
     },
     "execution_count": 17,
     "metadata": {},
     "output_type": "execute_result"
    }
   ],
   "source": [
    "df.shape"
   ]
  },
  {
   "cell_type": "code",
   "execution_count": 18,
   "metadata": {},
   "outputs": [],
   "source": [
    "df.drop(df.index[df['Solvent'] == 'gas'], inplace = True)"
   ]
  },
  {
   "cell_type": "code",
   "execution_count": 19,
   "metadata": {},
   "outputs": [
    {
     "data": {
      "text/plain": [
       "(32302, 18)"
      ]
     },
     "execution_count": 19,
     "metadata": {},
     "output_type": "execute_result"
    }
   ],
   "source": [
    "df.shape"
   ]
  },
  {
   "cell_type": "code",
   "execution_count": 20,
   "metadata": {},
   "outputs": [
    {
     "data": {
      "text/plain": [
       "(32302, 18)"
      ]
     },
     "execution_count": 20,
     "metadata": {},
     "output_type": "execute_result"
    }
   ],
   "source": [
    "df.shape"
   ]
  },
  {
   "cell_type": "code",
   "execution_count": 21,
   "metadata": {},
   "outputs": [
    {
     "data": {
      "text/plain": [
       "(15902, 18)"
      ]
     },
     "execution_count": 21,
     "metadata": {},
     "output_type": "execute_result"
    }
   ],
   "source": [
    "# Select only Fluoroscent molecules, since solvents data is available for Fluroscent pnly\n",
    "df = df.loc[df['Fluorescent labeling'] == 'Yes']\n",
    "df.shape"
   ]
  },
  {
   "attachments": {},
   "cell_type": "markdown",
   "metadata": {},
   "source": [
    "### Calculate descriptors"
   ]
  },
  {
   "cell_type": "code",
   "execution_count": 22,
   "metadata": {},
   "outputs": [],
   "source": [
    "def smiles_solvent_descriptors(df,desc,TARGET):\n",
    "  try:\n",
    "      dataset_original=df\n",
    "      \n",
    "      # morgan\n",
    "      if desc == \"Morgan fingerprints\": \n",
    "          smiles = dataset_original['Smiles'].tolist()\n",
    "          featurizer = dc.feat.CircularFingerprint(radius=3, size=1024)\n",
    "          discriptors = featurizer.featurize(smiles)\n",
    "          smiles_desc = pd.DataFrame(data=discriptors)\n",
    "\n",
    "          solvent = dataset_original['Solvent'].tolist()\n",
    "          discriptors_solvent = featurizer.featurize(solvent)\n",
    "          solvent_desc = pd.DataFrame(data=discriptors_solvent)\n",
    "\n",
    "          x = pd.concat([smiles_desc, solvent_desc], axis=1)\n",
    "\n",
    "          y = dataset_original[TARGET]\n",
    "\n",
    "          return x, y\n",
    "      # rdkit\n",
    "\n",
    "      elif desc == 'Mordred descriptors':\n",
    "          smiles = dataset_original['Smiles'].tolist()\n",
    "          featurizer = dc.feat.MordredDescriptors(ignore_3D = True)\n",
    "          discriptors = featurizer.featurize(smiles)\n",
    "          smiles_desc = pd.DataFrame(data=discriptors)\n",
    "\n",
    "          solvent = dataset_original['Solvent'].tolist()\n",
    "          discriptors_solvent = featurizer.featurize(solvent)\n",
    "          solvent_desc = pd.DataFrame(data=discriptors_solvent)\n",
    "\n",
    "          x = pd.concat([smiles_desc, solvent_desc], axis=1)\n",
    "          \n",
    "          y = dataset_original[TARGET]\n",
    "\n",
    "          return x, y\n",
    "\n",
    "      elif desc == 'MACCSKeysFingerprint':\n",
    "          smiles = dataset_original['Smiles'].tolist()\n",
    "          featurizer = dc.feat.MACCSKeysFingerprint()\n",
    "          discriptors = featurizer.featurize(smiles)\n",
    "          smiles_desc = pd.DataFrame(data=discriptors)\n",
    "\n",
    "          solvent = dataset_original['Solvent'].tolist()\n",
    "          discriptors_solvent = featurizer.featurize(solvent)\n",
    "          solvent_desc = pd.DataFrame(data=discriptors_solvent)\n",
    "\n",
    "          x = pd.concat([smiles_desc, solvent_desc], axis=1)\n",
    "          y = dataset_original[TARGET]\n",
    "\n",
    "          return x, y\n",
    "\n",
    "      elif desc == 'RDKitDescriptors':\n",
    "          smiles = dataset_original['Smiles'].tolist()\n",
    "          featurizer = dc.feat.RDKitDescriptors(use_fragment=True, ipc_avg=True)\n",
    "          discriptors = featurizer.featurize(smiles)\n",
    "          smiles_desc = pd.DataFrame(data=discriptors)\n",
    "\n",
    "          solvent = dataset_original['Solvent'].tolist()\n",
    "          discriptors_solvent = featurizer.featurize(solvent)\n",
    "          solvent_desc = pd.DataFrame(data=discriptors_solvent)\n",
    "\n",
    "          x = pd.concat([smiles_desc, solvent_desc], axis=1)\n",
    "          x.replace([np.inf, -np.inf], np.nan, inplace=True)\n",
    "          x.fillna(0, inplace=True)\n",
    "          scaler = StandardScaler()\n",
    "          x = pd.DataFrame(data=scaler.fit_transform(x))\n",
    "          y = dataset_original[TARGET]\n",
    "\n",
    "          return x, y\n",
    "\n",
    "      elif desc == 'PubChemFingerprint':\n",
    "          smiles = dataset_original['Smiles'].tolist()\n",
    "          featurizer = dc.feat.PubChemFingerprint()\n",
    "          discriptors = featurizer.featurize(smiles)\n",
    "          smiles_desc = pd.DataFrame(data=discriptors)\n",
    "\n",
    "          solvent = dataset_original['Solvent'].tolist()\n",
    "          discriptors_solvent = featurizer.featurize(solvent)\n",
    "          solvent_desc = pd.DataFrame(data=discriptors_solvent)\n",
    "\n",
    "          x = pd.concat([smiles_desc, solvent_desc], axis=1)\n",
    "          y = dataset_original[TARGET]\n",
    "\n",
    "          return x, y\n",
    "\n",
    "      else:\n",
    "          pass\n",
    "\n",
    "  except Exception as e:\n",
    "      raise e\n"
   ]
  },
  {
   "cell_type": "code",
   "execution_count": 23,
   "metadata": {},
   "outputs": [],
   "source": [
    "TARGET = \"Abso\""
   ]
  },
  {
   "cell_type": "code",
   "execution_count": 24,
   "metadata": {},
   "outputs": [
    {
     "data": {
      "text/plain": [
       "['Morgan fingerprints', 'MACCSKeysFingerprint', 'RDKitDescriptors']"
      ]
     },
     "execution_count": 24,
     "metadata": {},
     "output_type": "execute_result"
    }
   ],
   "source": [
    "descriptor_list"
   ]
  },
  {
   "cell_type": "code",
   "execution_count": 25,
   "metadata": {},
   "outputs": [
    {
     "ename": "KeyError",
     "evalue": "'Abso'",
     "output_type": "error",
     "traceback": [
      "\u001b[0;31m---------------------------------------------------------------------------\u001b[0m",
      "\u001b[0;31mKeyError\u001b[0m                                  Traceback (most recent call last)",
      "File \u001b[0;32m~/opt/anaconda3/envs/ML-for-LSD1-main/lib/python3.8/site-packages/pandas/core/indexes/base.py:3800\u001b[0m, in \u001b[0;36mIndex.get_loc\u001b[0;34m(self, key, method, tolerance)\u001b[0m\n\u001b[1;32m   3799\u001b[0m \u001b[39mtry\u001b[39;00m:\n\u001b[0;32m-> 3800\u001b[0m     \u001b[39mreturn\u001b[39;00m \u001b[39mself\u001b[39;49m\u001b[39m.\u001b[39;49m_engine\u001b[39m.\u001b[39;49mget_loc(casted_key)\n\u001b[1;32m   3801\u001b[0m \u001b[39mexcept\u001b[39;00m \u001b[39mKeyError\u001b[39;00m \u001b[39mas\u001b[39;00m err:\n",
      "File \u001b[0;32m~/opt/anaconda3/envs/ML-for-LSD1-main/lib/python3.8/site-packages/pandas/_libs/index.pyx:138\u001b[0m, in \u001b[0;36mpandas._libs.index.IndexEngine.get_loc\u001b[0;34m()\u001b[0m\n",
      "File \u001b[0;32m~/opt/anaconda3/envs/ML-for-LSD1-main/lib/python3.8/site-packages/pandas/_libs/index.pyx:165\u001b[0m, in \u001b[0;36mpandas._libs.index.IndexEngine.get_loc\u001b[0;34m()\u001b[0m\n",
      "File \u001b[0;32mpandas/_libs/hashtable_class_helper.pxi:5745\u001b[0m, in \u001b[0;36mpandas._libs.hashtable.PyObjectHashTable.get_item\u001b[0;34m()\u001b[0m\n",
      "File \u001b[0;32mpandas/_libs/hashtable_class_helper.pxi:5753\u001b[0m, in \u001b[0;36mpandas._libs.hashtable.PyObjectHashTable.get_item\u001b[0;34m()\u001b[0m\n",
      "\u001b[0;31mKeyError\u001b[0m: 'Abso'",
      "\nThe above exception was the direct cause of the following exception:\n",
      "\u001b[0;31mKeyError\u001b[0m                                  Traceback (most recent call last)",
      "\u001b[1;32m/Users/ganeshjadhav/Desktop/Fluorescent_compound_prediction/LambdaMax.ipynb Cell 18\u001b[0m in \u001b[0;36m3\n\u001b[1;32m      <a href='vscode-notebook-cell:/Users/ganeshjadhav/Desktop/Fluorescent_compound_prediction/LambdaMax.ipynb#X14sZmlsZQ%3D%3D?line=0'>1</a>\u001b[0m \u001b[39mfor\u001b[39;00m descriptor \u001b[39min\u001b[39;00m descriptor_list:\n\u001b[1;32m      <a href='vscode-notebook-cell:/Users/ganeshjadhav/Desktop/Fluorescent_compound_prediction/LambdaMax.ipynb#X14sZmlsZQ%3D%3D?line=1'>2</a>\u001b[0m     \u001b[39m# Call the descriptor_cal function to get X and Y\u001b[39;00m\n\u001b[0;32m----> <a href='vscode-notebook-cell:/Users/ganeshjadhav/Desktop/Fluorescent_compound_prediction/LambdaMax.ipynb#X14sZmlsZQ%3D%3D?line=2'>3</a>\u001b[0m     X, Y \u001b[39m=\u001b[39m smiles_solvent_descriptors(df, descriptor,TARGET)\n\u001b[1;32m      <a href='vscode-notebook-cell:/Users/ganeshjadhav/Desktop/Fluorescent_compound_prediction/LambdaMax.ipynb#X14sZmlsZQ%3D%3D?line=4'>5</a>\u001b[0m     \u001b[39m# Create a folder for the descriptor if it doesn't exist\u001b[39;00m\n\u001b[1;32m      <a href='vscode-notebook-cell:/Users/ganeshjadhav/Desktop/Fluorescent_compound_prediction/LambdaMax.ipynb#X14sZmlsZQ%3D%3D?line=5'>6</a>\u001b[0m     folder_path \u001b[39m=\u001b[39m os\u001b[39m.\u001b[39mpath\u001b[39m.\u001b[39mjoin(os\u001b[39m.\u001b[39mgetcwd(),\u001b[39m\"\u001b[39m\u001b[39mLambdaMaxDesc\u001b[39m\u001b[39m\"\u001b[39m, \u001b[39mf\u001b[39m\u001b[39m\"\u001b[39m\u001b[39m{\u001b[39;00mdescriptor\u001b[39m}\u001b[39;00m\u001b[39m\"\u001b[39m)\n",
      "\u001b[1;32m/Users/ganeshjadhav/Desktop/Fluorescent_compound_prediction/LambdaMax.ipynb Cell 18\u001b[0m in \u001b[0;36m9\n\u001b[1;32m     <a href='vscode-notebook-cell:/Users/ganeshjadhav/Desktop/Fluorescent_compound_prediction/LambdaMax.ipynb#X14sZmlsZQ%3D%3D?line=88'>89</a>\u001b[0m         \u001b[39mpass\u001b[39;00m\n\u001b[1;32m     <a href='vscode-notebook-cell:/Users/ganeshjadhav/Desktop/Fluorescent_compound_prediction/LambdaMax.ipynb#X14sZmlsZQ%3D%3D?line=90'>91</a>\u001b[0m \u001b[39mexcept\u001b[39;00m \u001b[39mException\u001b[39;00m \u001b[39mas\u001b[39;00m e:\n\u001b[0;32m---> <a href='vscode-notebook-cell:/Users/ganeshjadhav/Desktop/Fluorescent_compound_prediction/LambdaMax.ipynb#X14sZmlsZQ%3D%3D?line=91'>92</a>\u001b[0m     \u001b[39mraise\u001b[39;00m e\n",
      "\u001b[1;32m/Users/ganeshjadhav/Desktop/Fluorescent_compound_prediction/LambdaMax.ipynb Cell 18\u001b[0m in \u001b[0;36m1\n\u001b[1;32m     <a href='vscode-notebook-cell:/Users/ganeshjadhav/Desktop/Fluorescent_compound_prediction/LambdaMax.ipynb#X14sZmlsZQ%3D%3D?line=13'>14</a>\u001b[0m     solvent_desc \u001b[39m=\u001b[39m pd\u001b[39m.\u001b[39mDataFrame(data\u001b[39m=\u001b[39mdiscriptors_solvent)\n\u001b[1;32m     <a href='vscode-notebook-cell:/Users/ganeshjadhav/Desktop/Fluorescent_compound_prediction/LambdaMax.ipynb#X14sZmlsZQ%3D%3D?line=15'>16</a>\u001b[0m     x \u001b[39m=\u001b[39m pd\u001b[39m.\u001b[39mconcat([smiles_desc, solvent_desc], axis\u001b[39m=\u001b[39m\u001b[39m1\u001b[39m)\n\u001b[0;32m---> <a href='vscode-notebook-cell:/Users/ganeshjadhav/Desktop/Fluorescent_compound_prediction/LambdaMax.ipynb#X14sZmlsZQ%3D%3D?line=17'>18</a>\u001b[0m     y \u001b[39m=\u001b[39m dataset_original[TARGET]\n\u001b[1;32m     <a href='vscode-notebook-cell:/Users/ganeshjadhav/Desktop/Fluorescent_compound_prediction/LambdaMax.ipynb#X14sZmlsZQ%3D%3D?line=19'>20</a>\u001b[0m     \u001b[39mreturn\u001b[39;00m x, y\n\u001b[1;32m     <a href='vscode-notebook-cell:/Users/ganeshjadhav/Desktop/Fluorescent_compound_prediction/LambdaMax.ipynb#X14sZmlsZQ%3D%3D?line=20'>21</a>\u001b[0m \u001b[39m# rdkit\u001b[39;00m\n",
      "File \u001b[0;32m~/opt/anaconda3/envs/ML-for-LSD1-main/lib/python3.8/site-packages/pandas/core/frame.py:3805\u001b[0m, in \u001b[0;36mDataFrame.__getitem__\u001b[0;34m(self, key)\u001b[0m\n\u001b[1;32m   3803\u001b[0m \u001b[39mif\u001b[39;00m \u001b[39mself\u001b[39m\u001b[39m.\u001b[39mcolumns\u001b[39m.\u001b[39mnlevels \u001b[39m>\u001b[39m \u001b[39m1\u001b[39m:\n\u001b[1;32m   3804\u001b[0m     \u001b[39mreturn\u001b[39;00m \u001b[39mself\u001b[39m\u001b[39m.\u001b[39m_getitem_multilevel(key)\n\u001b[0;32m-> 3805\u001b[0m indexer \u001b[39m=\u001b[39m \u001b[39mself\u001b[39;49m\u001b[39m.\u001b[39;49mcolumns\u001b[39m.\u001b[39;49mget_loc(key)\n\u001b[1;32m   3806\u001b[0m \u001b[39mif\u001b[39;00m is_integer(indexer):\n\u001b[1;32m   3807\u001b[0m     indexer \u001b[39m=\u001b[39m [indexer]\n",
      "File \u001b[0;32m~/opt/anaconda3/envs/ML-for-LSD1-main/lib/python3.8/site-packages/pandas/core/indexes/base.py:3802\u001b[0m, in \u001b[0;36mIndex.get_loc\u001b[0;34m(self, key, method, tolerance)\u001b[0m\n\u001b[1;32m   3800\u001b[0m     \u001b[39mreturn\u001b[39;00m \u001b[39mself\u001b[39m\u001b[39m.\u001b[39m_engine\u001b[39m.\u001b[39mget_loc(casted_key)\n\u001b[1;32m   3801\u001b[0m \u001b[39mexcept\u001b[39;00m \u001b[39mKeyError\u001b[39;00m \u001b[39mas\u001b[39;00m err:\n\u001b[0;32m-> 3802\u001b[0m     \u001b[39mraise\u001b[39;00m \u001b[39mKeyError\u001b[39;00m(key) \u001b[39mfrom\u001b[39;00m \u001b[39merr\u001b[39;00m\n\u001b[1;32m   3803\u001b[0m \u001b[39mexcept\u001b[39;00m \u001b[39mTypeError\u001b[39;00m:\n\u001b[1;32m   3804\u001b[0m     \u001b[39m# If we have a listlike key, _check_indexing_error will raise\u001b[39;00m\n\u001b[1;32m   3805\u001b[0m     \u001b[39m#  InvalidIndexError. Otherwise we fall through and re-raise\u001b[39;00m\n\u001b[1;32m   3806\u001b[0m     \u001b[39m#  the TypeError.\u001b[39;00m\n\u001b[1;32m   3807\u001b[0m     \u001b[39mself\u001b[39m\u001b[39m.\u001b[39m_check_indexing_error(key)\n",
      "\u001b[0;31mKeyError\u001b[0m: 'Abso'"
     ]
    }
   ],
   "source": [
    "for descriptor in descriptor_list:\n",
    "    # Call the descriptor_cal function to get X and Y\n",
    "    X, Y = smiles_solvent_descriptors(df, descriptor,TARGET)\n",
    "    \n",
    "    # Create a folder for the descriptor if it doesn't exist\n",
    "    folder_path = os.path.join(os.getcwd(),\"LambdaMaxDesc\", f\"{descriptor}\")\n",
    "    if not os.path.exists(folder_path):\n",
    "        os.makedirs(folder_path)\n",
    "    \n",
    "    # Save the X and Y DataFrames to separate CSV files in the folder\n",
    "    x_file_path = os.path.join(folder_path, 'X.csv')\n",
    "    y_file_path = os.path.join(folder_path, 'Y.csv')\n",
    "    X.to_csv(x_file_path, index=False)\n",
    "    Y.to_csv(y_file_path, index=False)\n",
    "\n",
    "    print(f\"X and y saved for {descriptor}\")\n",
    "    print(f\"descriptors shape: {X.shape}\")"
   ]
  },
  {
   "attachments": {},
   "cell_type": "markdown",
   "metadata": {},
   "source": [
    "### Train Models"
   ]
  },
  {
   "cell_type": "code",
   "execution_count": null,
   "metadata": {},
   "outputs": [],
   "source": [
    "def train_regression(X,y,PATH):\n",
    "    # Split the data into training and testing sets\n",
    "    X_train, X_test, y_train, y_test = train_test_split(X, y, test_size=0.2, random_state=42)\n",
    "\n",
    "    # Define a dictionary of regression models\n",
    "    models = {\n",
    "        'Ridge Regression': Ridge(),\n",
    "        'Lasso Regression': Lasso(),\n",
    "        'ElasticNet Regression': ElasticNet(),\n",
    "        'Decision Tree Regression': DecisionTreeRegressor(),\n",
    "        'Random Forest Regression': RandomForestRegressor(),\n",
    "        'Support Vector Regression': SVR(),\n",
    "        'K-Nearest Neighbors Regression': KNeighborsRegressor()\n",
    "    }\n",
    "\n",
    "    # Define a list of evaluation metrics to evaluate the models\n",
    "    metrics = [mean_absolute_error, mean_squared_error, r2_score]\n",
    "\n",
    "    # Create a results folder if it doesn't exist\n",
    "    if not os.path.exists(PATH):\n",
    "        os.makedirs(PATH)\n",
    "\n",
    "    # Loop through each model, train it, and evaluate its performance\n",
    "    for name, model in models.items():\n",
    "        model.fit(X_train, y_train)\n",
    "        y_pred = model.predict(X_test)\n",
    "        results = {}\n",
    "        for metric in metrics:\n",
    "            metric_name = metric.__name__\n",
    "            results[metric_name] = metric(y_test, y_pred)\n",
    "        results_df = pd.DataFrame.from_dict(results, orient='index', columns=[name])\n",
    "        results_df.to_csv(f'{PATH}/{name}.csv')\n"
   ]
  },
  {
   "cell_type": "code",
   "execution_count": null,
   "metadata": {},
   "outputs": [
    {
     "name": "stderr",
     "output_type": "stream",
     "text": [
      "/var/folders/nf/xdcscmx50n3ccqpvd73zgys00000gn/T/ipykernel_20449/2790036193.py:26: DataConversionWarning: A column-vector y was passed when a 1d array was expected. Please change the shape of y to (n_samples,), for example using ravel().\n",
      "  model.fit(X_train, y_train)\n",
      "/Users/ganeshjadhav/opt/anaconda3/envs/ML-for-LSD1-main/lib/python3.8/site-packages/sklearn/utils/validation.py:1111: DataConversionWarning: A column-vector y was passed when a 1d array was expected. Please change the shape of y to (n_samples, ), for example using ravel().\n",
      "  y = column_or_1d(y, warn=True)\n",
      "/var/folders/nf/xdcscmx50n3ccqpvd73zgys00000gn/T/ipykernel_20449/2790036193.py:26: DataConversionWarning: A column-vector y was passed when a 1d array was expected. Please change the shape of y to (n_samples,), for example using ravel().\n",
      "  model.fit(X_train, y_train)\n",
      "/Users/ganeshjadhav/opt/anaconda3/envs/ML-for-LSD1-main/lib/python3.8/site-packages/sklearn/utils/validation.py:1111: DataConversionWarning: A column-vector y was passed when a 1d array was expected. Please change the shape of y to (n_samples, ), for example using ravel().\n",
      "  y = column_or_1d(y, warn=True)\n",
      "/var/folders/nf/xdcscmx50n3ccqpvd73zgys00000gn/T/ipykernel_20449/2790036193.py:26: DataConversionWarning: A column-vector y was passed when a 1d array was expected. Please change the shape of y to (n_samples,), for example using ravel().\n",
      "  model.fit(X_train, y_train)\n",
      "/Users/ganeshjadhav/opt/anaconda3/envs/ML-for-LSD1-main/lib/python3.8/site-packages/sklearn/utils/validation.py:1111: DataConversionWarning: A column-vector y was passed when a 1d array was expected. Please change the shape of y to (n_samples, ), for example using ravel().\n",
      "  y = column_or_1d(y, warn=True)\n"
     ]
    }
   ],
   "source": [
    "# Define the path to the folder containing subfolders\n",
    "path_to_descriptors = \"LambdaMaxDesc\"\n",
    "results_folder = \"LambdaMaxScores\"\n",
    "if os.path.exists(results_folder):\n",
    "    shutil.rmtree(results_folder)\n",
    "\n",
    "\n",
    "# Loop over each subfolder\n",
    "for subfolder_name in os.listdir(path_to_descriptors):\n",
    "    \n",
    "    # Define the path to the X.csv and Y.csv files for the current subfolder\n",
    "    path_to_X = os.path.join(path_to_descriptors, subfolder_name, \"X.csv\")\n",
    "    path_to_Y = os.path.join(path_to_descriptors, subfolder_name, \"Y.csv\")\n",
    "    \n",
    "    # Load the X.csv and Y.csv files as dataframes\n",
    "    X = pd.read_csv(path_to_X)\n",
    "    Y = pd.read_csv(path_to_Y)\n",
    "    \n",
    "    # Call the train_models function with X, Y, and the current subfolder name as the PATH argument\n",
    "    train_regression(X, Y, f\"{results_folder}/{subfolder_name}\")\n"
   ]
  },
  {
   "attachments": {},
   "cell_type": "markdown",
   "metadata": {},
   "source": [
    "### Plot results"
   ]
  },
  {
   "cell_type": "code",
   "execution_count": null,
   "metadata": {},
   "outputs": [],
   "source": [
    "import os\n",
    "import pandas as pd\n",
    "import matplotlib.pyplot as plt\n",
    "import datetime\n",
    "\n",
    "def plot_metrics(SCORES_FOLDER,METRIC_TO_PLOT):\n",
    "        \n",
    "    # Define a list to store the accuracy values for each csv file\n",
    "    accuracy_values = []\n",
    "\n",
    "    # Loop through each subfolder in folder1\n",
    "    for subfolder in os.listdir(SCORES_FOLDER):\n",
    "        subfolder_path = os.path.join(SCORES_FOLDER, subfolder)\n",
    "        \n",
    "        # Loop through each csv file in the subfolder\n",
    "        for csv_file in os.listdir(subfolder_path):\n",
    "            if csv_file.endswith('.csv'):\n",
    "                csv_path = os.path.join(subfolder_path, csv_file)\n",
    "                \n",
    "                # Read the csv file into a pandas dataframe\n",
    "                df = pd.read_csv(csv_path, index_col=[0])\n",
    "                \n",
    "                # Extract the accuracy value from the dataframe and append it to the list\n",
    "                accuracy_value = df.loc[METRIC_TO_PLOT].values[0]\n",
    "                accuracy_values.append((subfolder, csv_file[:-4], accuracy_value)) # Remove the last 4 characters (i.e. \".csv\") from the csv file name\n",
    "\n",
    "    # Convert the accuracy values list to a pandas dataframe\n",
    "    df_accuracy = pd.DataFrame(accuracy_values, columns=['Subfolder', 'CSV File', METRIC_TO_PLOT])\n",
    "\n",
    "    # Pivot the dataframe to have Subfolder as the index, CSV File as the columns, and Accuracy as the values\n",
    "    df_accuracy_pivot = df_accuracy.pivot(index='Subfolder', columns='CSV File', values=METRIC_TO_PLOT)\n",
    "\n",
    "    # Create a plot of the accuracy values\n",
    "    plt.figure(figsize=(10, 5))\n",
    "    for csv_file in df_accuracy_pivot.columns:\n",
    "        plt.plot(df_accuracy_pivot.index, df_accuracy_pivot[csv_file], label=csv_file[:]) # Remove the last 4 characters (i.e. \".csv\") from the csv file name\n",
    "    plt.xlabel('Subfolder')\n",
    "    plt.ylabel(METRIC_TO_PLOT)\n",
    "    plt.legend()\n",
    "\n",
    "    # Get the current date and time and format it for the filename\n",
    "    now = datetime.datetime.now()\n",
    "\n",
    "    # Define the path and filename for the plot\n",
    "    plot_path = f'{SCORES_FOLDER[:-6]}plots'\n",
    "    if not os.path.exists(plot_path):\n",
    "        os.makedirs(plot_path)\n",
    "        \n",
    "    plot_name = os.path.join(plot_path, METRIC_TO_PLOT)\n",
    "\n",
    "    # Save the plot\n",
    "    plt.savefig(plot_name)\n",
    "\n",
    "    # Show the plot\n",
    "    plt.show()\n",
    "\n",
    "    print(f\"Compairison plots saved at: {plot_path}\")\n",
    "\n",
    "    return df_accuracy\n"
   ]
  },
  {
   "cell_type": "code",
   "execution_count": null,
   "metadata": {},
   "outputs": [
    {
     "data": {
      "image/png": "[encoded data removed]",
      "text/plain": [
       "<Figure size 1000x500 with 1 Axes>"
      ]
     },
     "metadata": {},
     "output_type": "display_data"
    },
    {
     "name": "stdout",
     "output_type": "stream",
     "text": [
      "Compairison plots saved at: LambdaMaxplots\n"
     ]
    },
    {
     "data": {
      "text/html": [
       "<div>\n",
       "<style scoped>\n",
       "    .dataframe tbody tr th:only-of-type {\n",
       "        vertical-align: middle;\n",
       "    }\n",
       "\n",
       "    .dataframe tbody tr th {\n",
       "        vertical-align: top;\n",
       "    }\n",
       "\n",
       "    .dataframe thead th {\n",
       "        text-align: right;\n",
       "    }\n",
       "</style>\n",
       "<table border=\"1\" class=\"dataframe\">\n",
       "  <thead>\n",
       "    <tr style=\"text-align: right;\">\n",
       "      <th></th>\n",
       "      <th>Subfolder</th>\n",
       "      <th>CSV File</th>\n",
       "      <th>r2_score</th>\n",
       "    </tr>\n",
       "  </thead>\n",
       "  <tbody>\n",
       "    <tr>\n",
       "      <th>0</th>\n",
       "      <td>MACCSKeysFingerprint</td>\n",
       "      <td>Support Vector Regression</td>\n",
       "      <td>0.505404</td>\n",
       "    </tr>\n",
       "    <tr>\n",
       "      <th>1</th>\n",
       "      <td>MACCSKeysFingerprint</td>\n",
       "      <td>K-Nearest Neighbors Regression</td>\n",
       "      <td>0.853002</td>\n",
       "    </tr>\n",
       "    <tr>\n",
       "      <th>2</th>\n",
       "      <td>MACCSKeysFingerprint</td>\n",
       "      <td>Lasso Regression</td>\n",
       "      <td>0.585026</td>\n",
       "    </tr>\n",
       "    <tr>\n",
       "      <th>3</th>\n",
       "      <td>MACCSKeysFingerprint</td>\n",
       "      <td>Decision Tree Regression</td>\n",
       "      <td>0.880046</td>\n",
       "    </tr>\n",
       "    <tr>\n",
       "      <th>4</th>\n",
       "      <td>MACCSKeysFingerprint</td>\n",
       "      <td>Ridge Regression</td>\n",
       "      <td>0.679154</td>\n",
       "    </tr>\n",
       "    <tr>\n",
       "      <th>5</th>\n",
       "      <td>MACCSKeysFingerprint</td>\n",
       "      <td>ElasticNet Regression</td>\n",
       "      <td>0.485338</td>\n",
       "    </tr>\n",
       "    <tr>\n",
       "      <th>6</th>\n",
       "      <td>MACCSKeysFingerprint</td>\n",
       "      <td>Random Forest Regression</td>\n",
       "      <td>0.924479</td>\n",
       "    </tr>\n",
       "    <tr>\n",
       "      <th>7</th>\n",
       "      <td>RDKitDescriptors</td>\n",
       "      <td>Support Vector Regression</td>\n",
       "      <td>0.436670</td>\n",
       "    </tr>\n",
       "    <tr>\n",
       "      <th>8</th>\n",
       "      <td>RDKitDescriptors</td>\n",
       "      <td>K-Nearest Neighbors Regression</td>\n",
       "      <td>0.799126</td>\n",
       "    </tr>\n",
       "    <tr>\n",
       "      <th>9</th>\n",
       "      <td>RDKitDescriptors</td>\n",
       "      <td>Lasso Regression</td>\n",
       "      <td>0.652476</td>\n",
       "    </tr>\n",
       "    <tr>\n",
       "      <th>10</th>\n",
       "      <td>RDKitDescriptors</td>\n",
       "      <td>Decision Tree Regression</td>\n",
       "      <td>0.890734</td>\n",
       "    </tr>\n",
       "    <tr>\n",
       "      <th>11</th>\n",
       "      <td>RDKitDescriptors</td>\n",
       "      <td>Ridge Regression</td>\n",
       "      <td>0.734748</td>\n",
       "    </tr>\n",
       "    <tr>\n",
       "      <th>12</th>\n",
       "      <td>RDKitDescriptors</td>\n",
       "      <td>ElasticNet Regression</td>\n",
       "      <td>0.617163</td>\n",
       "    </tr>\n",
       "    <tr>\n",
       "      <th>13</th>\n",
       "      <td>RDKitDescriptors</td>\n",
       "      <td>Random Forest Regression</td>\n",
       "      <td>0.945292</td>\n",
       "    </tr>\n",
       "    <tr>\n",
       "      <th>14</th>\n",
       "      <td>Morgan fingerprints</td>\n",
       "      <td>Support Vector Regression</td>\n",
       "      <td>0.364966</td>\n",
       "    </tr>\n",
       "    <tr>\n",
       "      <th>15</th>\n",
       "      <td>Morgan fingerprints</td>\n",
       "      <td>K-Nearest Neighbors Regression</td>\n",
       "      <td>0.910565</td>\n",
       "    </tr>\n",
       "    <tr>\n",
       "      <th>16</th>\n",
       "      <td>Morgan fingerprints</td>\n",
       "      <td>Lasso Regression</td>\n",
       "      <td>0.614806</td>\n",
       "    </tr>\n",
       "    <tr>\n",
       "      <th>17</th>\n",
       "      <td>Morgan fingerprints</td>\n",
       "      <td>Decision Tree Regression</td>\n",
       "      <td>0.909930</td>\n",
       "    </tr>\n",
       "    <tr>\n",
       "      <th>18</th>\n",
       "      <td>Morgan fingerprints</td>\n",
       "      <td>Ridge Regression</td>\n",
       "      <td>0.833053</td>\n",
       "    </tr>\n",
       "    <tr>\n",
       "      <th>19</th>\n",
       "      <td>Morgan fingerprints</td>\n",
       "      <td>ElasticNet Regression</td>\n",
       "      <td>0.461829</td>\n",
       "    </tr>\n",
       "    <tr>\n",
       "      <th>20</th>\n",
       "      <td>Morgan fingerprints</td>\n",
       "      <td>Random Forest Regression</td>\n",
       "      <td>0.948094</td>\n",
       "    </tr>\n",
       "  </tbody>\n",
       "</table>\n",
       "</div>"
      ],
      "text/plain": [
       "               Subfolder                        CSV File  r2_score\n",
       "0   MACCSKeysFingerprint       Support Vector Regression  0.505404\n",
       "1   MACCSKeysFingerprint  K-Nearest Neighbors Regression  0.853002\n",
       "2   MACCSKeysFingerprint                Lasso Regression  0.585026\n",
       "3   MACCSKeysFingerprint        Decision Tree Regression  0.880046\n",
       "4   MACCSKeysFingerprint                Ridge Regression  0.679154\n",
       "5   MACCSKeysFingerprint           ElasticNet Regression  0.485338\n",
       "6   MACCSKeysFingerprint        Random Forest Regression  0.924479\n",
       "7       RDKitDescriptors       Support Vector Regression  0.436670\n",
       "8       RDKitDescriptors  K-Nearest Neighbors Regression  0.799126\n",
       "9       RDKitDescriptors                Lasso Regression  0.652476\n",
       "10      RDKitDescriptors        Decision Tree Regression  0.890734\n",
       "11      RDKitDescriptors                Ridge Regression  0.734748\n",
       "12      RDKitDescriptors           ElasticNet Regression  0.617163\n",
       "13      RDKitDescriptors        Random Forest Regression  0.945292\n",
       "14   Morgan fingerprints       Support Vector Regression  0.364966\n",
       "15   Morgan fingerprints  K-Nearest Neighbors Regression  0.910565\n",
       "16   Morgan fingerprints                Lasso Regression  0.614806\n",
       "17   Morgan fingerprints        Decision Tree Regression  0.909930\n",
       "18   Morgan fingerprints                Ridge Regression  0.833053\n",
       "19   Morgan fingerprints           ElasticNet Regression  0.461829\n",
       "20   Morgan fingerprints        Random Forest Regression  0.948094"
      ]
     },
     "execution_count": 59,
     "metadata": {},
     "output_type": "execute_result"
    }
   ],
   "source": [
    "SCORES_FOLDER = \"LambdaMaxScores\"\n",
    "METRIC_TO_PLOT = \"r2_score\"\n",
    "plot_metrics(SCORES_FOLDER,METRIC_TO_PLOT)"
   ]
  }
 ],
 "metadata": {
  "kernelspec": {
   "display_name": "Python 3.8.10 64-bit",
   "language": "python",
   "name": "python3"
  },
  "language_info": {
   "codemirror_mode": {
    "name": "ipython",
    "version": 3
   },
   "file_extension": ".py",
   "mimetype": "text/x-python",
   "name": "python",
   "nbconvert_exporter": "python",
   "pygments_lexer": "ipython3",
   "version": "3.8.13"
  },
  "orig_nbformat": 4,
  "vscode": {
   "interpreter": {
    "hash": "e7370f93d1d0cde622a1f8e1c04877d8463912d04d973331ad4851f04de6915a"
   }
  }
 },
 "nbformat": 4,
 "nbformat_minor": 2
}
